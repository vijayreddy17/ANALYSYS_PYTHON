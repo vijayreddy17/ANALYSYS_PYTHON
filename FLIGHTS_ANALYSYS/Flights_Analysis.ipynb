{
 "cells": [
  {
   "cell_type": "code",
   "execution_count": 100,
   "metadata": {},
   "outputs": [],
   "source": [
    "import os\n",
    "import pandas as pd"
   ]
  },
  {
   "cell_type": "code",
   "execution_count": 103,
   "metadata": {},
   "outputs": [
    {
     "name": "stdout",
     "output_type": "stream",
     "text": [
      "   year  month  day  dep_time  dep_delay  arr_time  arr_delay carrier tailnum  \\\n",
      "0  2013      6   30       940         15      1216         -4      VX  N626VA   \n",
      "1  2013      5    7      1657         -3      2104         10      DL  N3760C   \n",
      "2  2013     12    8       859         -1      1238         11      DL  N712TW   \n",
      "3  2013      5   14      1841         -4      2122        -34      DL  N914DL   \n",
      "4  2013      7   21      1102         -3      1230         -8      9E  N823AY   \n",
      "\n",
      "   flight origin dest  air_time  distance  hour  minute  \n",
      "0     407    JFK  LAX       313      2475     9      40  \n",
      "1     329    JFK  SJU       216      1598    16      57  \n",
      "2     422    JFK  LAX       376      2475     8      59  \n",
      "3    2391    JFK  TPA       135      1005    18      41  \n",
      "4    3652    LGA  ORF        50       296    11       2  \n"
     ]
    }
   ],
   "source": [
    "file_path =('./Downloads/nycflights.csv')\n",
    "flights_data = pd.read_csv(file_path)\n",
    "print(flights_data.head())\n"
   ]
  },
  {
   "cell_type": "code",
   "execution_count": 104,
   "metadata": {},
   "outputs": [
    {
     "data": {
      "text/plain": [
       "year         0\n",
       "month        0\n",
       "day          0\n",
       "dep_time     0\n",
       "dep_delay    0\n",
       "arr_time     0\n",
       "arr_delay    0\n",
       "carrier      0\n",
       "tailnum      0\n",
       "flight       0\n",
       "origin       0\n",
       "dest         0\n",
       "air_time     0\n",
       "distance     0\n",
       "hour         0\n",
       "minute       0\n",
       "dtype: int64"
      ]
     },
     "execution_count": 104,
     "metadata": {},
     "output_type": "execute_result"
    }
   ],
   "source": [
    "flights_data.isnull().sum()\n"
   ]
  },
  {
   "cell_type": "code",
   "execution_count": 105,
   "metadata": {},
   "outputs": [
    {
     "name": "stdout",
     "output_type": "stream",
     "text": [
      "Empty DataFrame\n",
      "Columns: [year, month, day, dep_time, dep_delay, arr_time, arr_delay, carrier, tailnum, flight, origin, dest, air_time, distance, hour, minute]\n",
      "Index: []\n"
     ]
    }
   ],
   "source": [
    "# Check for duplicate rows in the entire dataset\n",
    "duplicate_rows = flights_data[flights_data.duplicated()]\n",
    "print(duplicate_rows)\n"
   ]
  },
  {
   "cell_type": "code",
   "execution_count": 106,
   "metadata": {},
   "outputs": [],
   "source": [
    "# Convert to time format (HH:MM)\n",
    "flights_data['dep_time'] = pd.to_datetime(flights_data['dep_time'], format='%H%M', errors='coerce').dt.time\n",
    "flights_data['arr_time'] = pd.to_datetime(flights_data['arr_time'], format='%H%M', errors='coerce').dt.time\n"
   ]
  },
  {
   "cell_type": "code",
   "execution_count": 107,
   "metadata": {},
   "outputs": [
    {
     "name": "stdout",
     "output_type": "stream",
     "text": [
      "   year  month  day  dep_time  dep_delay  arr_time  arr_delay carrier tailnum  \\\n",
      "0  2013      6   30  09:40:00         15  12:16:00         -4      VX  N626VA   \n",
      "1  2013      5    7  16:57:00         -3  21:04:00         10      DL  N3760C   \n",
      "2  2013     12    8  08:59:00         -1  12:38:00         11      DL  N712TW   \n",
      "3  2013      5   14  18:41:00         -4  21:22:00        -34      DL  N914DL   \n",
      "4  2013      7   21  11:02:00         -3  12:30:00         -8      9E  N823AY   \n",
      "\n",
      "   flight origin dest  air_time  distance  hour  minute  \n",
      "0     407    JFK  LAX       313      2475     9      40  \n",
      "1     329    JFK  SJU       216      1598    16      57  \n",
      "2     422    JFK  LAX       376      2475     8      59  \n",
      "3    2391    JFK  TPA       135      1005    18      41  \n",
      "4    3652    LGA  ORF        50       296    11       2  \n"
     ]
    }
   ],
   "source": [
    "print(flights_data.head())\n"
   ]
  },
  {
   "cell_type": "code",
   "execution_count": 108,
   "metadata": {},
   "outputs": [
    {
     "name": "stdout",
     "output_type": "stream",
     "text": [
      "   dep_delay  early_dep  arr_delay  early_arr\n",
      "0         15        NaN         -4        4.0\n",
      "1         -3        3.0         10        NaN\n",
      "2         -1        1.0         11        NaN\n",
      "3         -4        4.0        -34       34.0\n",
      "4         -3        3.0         -8        8.0\n"
     ]
    }
   ],
   "source": [
    "\n",
    "# Create new columns 'early_dep' and 'early_arr' by filtering negative values\n",
    "flights_data['early_dep'] = flights_data['dep_delay'].apply(lambda x: -x if x < 0 else None)\n",
    "flights_data['early_arr'] = flights_data['arr_delay'].apply(lambda x: -x if x < 0 else None)\n",
    "\n",
    "# Display the updated DataFrame\n",
    "print(flights_data[['dep_delay', 'early_dep', 'arr_delay', 'early_arr']].head())\n"
   ]
  },
  {
   "cell_type": "code",
   "execution_count": 109,
   "metadata": {},
   "outputs": [
    {
     "name": "stdout",
     "output_type": "stream",
     "text": [
      "   year  month  day  dep_time  dep_delay  arr_time  arr_delay carrier tailnum  \\\n",
      "0  2013      6   30  09:40:00         15  12:16:00         -4      VX  N626VA   \n",
      "1  2013      5    7  16:57:00         -3  21:04:00         10      DL  N3760C   \n",
      "2  2013     12    8  08:59:00         -1  12:38:00         11      DL  N712TW   \n",
      "3  2013      5   14  18:41:00         -4  21:22:00        -34      DL  N914DL   \n",
      "4  2013      7   21  11:02:00         -3  12:30:00         -8      9E  N823AY   \n",
      "\n",
      "   flight origin dest  air_time  distance  hour  minute  early_dep  early_arr  \n",
      "0     407    JFK  LAX       313      2475     9      40        NaN        4.0  \n",
      "1     329    JFK  SJU       216      1598    16      57        3.0        NaN  \n",
      "2     422    JFK  LAX       376      2475     8      59        1.0        NaN  \n",
      "3    2391    JFK  TPA       135      1005    18      41        4.0       34.0  \n",
      "4    3652    LGA  ORF        50       296    11       2        3.0        8.0  \n"
     ]
    }
   ],
   "source": [
    "print(flights_data.head())\n"
   ]
  },
  {
   "cell_type": "code",
   "execution_count": 128,
   "metadata": {},
   "outputs": [
    {
     "name": "stdout",
     "output_type": "stream",
     "text": [
      "          dep_delay     arr_delay      air_time      distance\n",
      "count  32735.000000  32735.000000  32735.000000  32735.000000\n",
      "mean      12.705147      7.100810      0.193437      0.194773\n",
      "std       40.407426     44.687329      0.140855      0.150068\n",
      "min      -21.000000    -73.000000      0.000000      0.000000\n",
      "25%       -5.000000    -17.000000      0.090361      0.083453\n",
      "50%       -2.000000     -5.000000      0.161145      0.162405\n",
      "75%       11.000000     14.000000      0.254518      0.265289\n",
      "max     1301.000000   1272.000000      1.000000      1.000000\n"
     ]
    }
   ],
   "source": [
    "# Summary statistics of numeric columns\n",
    "numeric_columns = ['dep_delay', 'arr_delay', 'air_time', 'distance']\n",
    "summary_stats = flights_data[numeric_columns].describe()\n",
    "print(summary_stats)\n"
   ]
  },
  {
   "cell_type": "code",
   "execution_count": 129,
   "metadata": {},
   "outputs": [
    {
     "data": {
      "image/png": "[encoded data removed]",
      "text/plain": [
       "<Figure size 576x432 with 2 Axes>"
      ]
     },
     "metadata": {
      "needs_background": "light"
     },
     "output_type": "display_data"
    }
   ],
   "source": [
    "import seaborn as sns\n",
    "\n",
    "# Correlation matrix\n",
    "corr_matrix = flights_data[numeric_columns].corr()\n",
    "\n",
    "# Heatmap of correlation matrix\n",
    "plt.figure(figsize=(8, 6))\n",
    "sns.heatmap(corr_matrix, annot=True, cmap='coolwarm', fmt=\".2f\", annot_kws={\"size\": 10})\n",
    "plt.title('Correlation Matrix of Numeric Variables')\n",
    "plt.show()\n"
   ]
  },
  {
   "cell_type": "code",
   "execution_count": 121,
   "metadata": {},
   "outputs": [
    {
     "name": "stdout",
     "output_type": "stream",
     "text": [
      "       air_time  distance\n",
      "0      0.438253  0.487012\n",
      "1      0.292169  0.307629\n",
      "2      0.533133  0.487012\n",
      "3      0.170181  0.186337\n",
      "4      0.042169  0.041317\n",
      "...         ...       ...\n",
      "32730  0.061747  0.050317\n",
      "32731  0.397590  0.440581\n",
      "32732  0.237952  0.267130\n",
      "32733  0.106928  0.110861\n",
      "32734  0.055723  0.063408\n",
      "\n",
      "[32735 rows x 2 columns]\n"
     ]
    }
   ],
   "source": [
    "from sklearn.preprocessing import MinMaxScaler\n",
    "\n",
    "# Initialize the scaler\n",
    "scaler = MinMaxScaler()\n",
    "\n",
    "# Scale numeric columns\n",
    "numeric_columns = ['air_time', 'distance']\n",
    "flights_data[numeric_columns] = scaler.fit_transform(flights_data[numeric_columns])\n",
    "print(flights_data[numeric_columns])"
   ]
  },
  {
   "cell_type": "code",
   "execution_count": 122,
   "metadata": {},
   "outputs": [
    {
     "name": "stdout",
     "output_type": "stream",
     "text": [
      "       year  month  day  dep_time  dep_delay  arr_time  arr_delay carrier  \\\n",
      "7      2013      8   13  19:20:00         85  20:32:00         71      B6   \n",
      "9      2013      4   30  13:23:00         62  15:49:00         60      EV   \n",
      "13     2013      3   25  20:54:00        115  22:56:00         91      FL   \n",
      "23     2013      7    7  23:10:00        105  20:01:00        127      B6   \n",
      "27     2013      4   24  22:53:00        123       NaT        101      EV   \n",
      "...     ...    ...  ...       ...        ...       ...        ...     ...   \n",
      "32707  2013      2    4  13:40:00         82  15:37:00         82      EV   \n",
      "32709  2013      4   19  23:12:00        217  22:00:00        214      UA   \n",
      "32713  2013      2    2  16:59:00         49  18:03:00         32      9E   \n",
      "32721  2013      7   22  23:02:00        227  03:33:00        209      B6   \n",
      "32733  2013     10   15  08:44:00         56  10:45:00         60      B6   \n",
      "\n",
      "      tailnum  flight origin dest  air_time  distance  hour  minute  \\\n",
      "7      N284JB    1407    JFK  IAD  0.039157  0.027408    19      20   \n",
      "9      N12163    4162    EWR  JAX  0.132530  0.148497    13      23   \n",
      "13     N919AT     645    LGA  ATL  0.123494  0.136633    20      54   \n",
      "23     N506JB      97    JFK  DEN  0.302711  0.313357    23      10   \n",
      "27     N14562    3852    EWR  BUF  0.046687  0.038454    22      53   \n",
      "...       ...     ...    ...  ...       ...       ...   ...     ...   \n",
      "32707  N14179    4135    EWR  CLT  0.117470  0.088975    13      40   \n",
      "32709  N529UA     768    EWR  LAX  0.471386  0.482716    23      12   \n",
      "32713  N601XJ    3689    JFK  PHL  0.007530  0.000000    16      59   \n",
      "32721  N334JB     108    JFK  PWM  0.034639  0.036613     2      32   \n",
      "32733  N258JB    1273    JFK  CHS  0.106928  0.110861     8      44   \n",
      "\n",
      "       early_dep  early_arr  \n",
      "7            NaN        NaN  \n",
      "9            NaN        NaN  \n",
      "13           NaN        NaN  \n",
      "23           NaN        NaN  \n",
      "27           NaN        NaN  \n",
      "...          ...        ...  \n",
      "32707        NaN        NaN  \n",
      "32709        NaN        NaN  \n",
      "32713        NaN        NaN  \n",
      "32721        NaN        NaN  \n",
      "32733        NaN        NaN  \n",
      "\n",
      "[4037 rows x 18 columns]\n"
     ]
    }
   ],
   "source": [
    "# Filter flights with departure delays greater than 30 minutes and arrival delays greater than 30 minutes\n",
    "delayed_flights_30 = flights_data[(flights_data['dep_delay'] > 30) & (flights_data['arr_delay'] > 30)]\n",
    "\n",
    "\n",
    "print(delayed_flights_30)"
   ]
  },
  {
   "cell_type": "code",
   "execution_count": 123,
   "metadata": {},
   "outputs": [
    {
     "name": "stdout",
     "output_type": "stream",
     "text": [
      "       flight origin dest\n",
      "7        1407    JFK  IAD\n",
      "9        4162    EWR  JAX\n",
      "13        645    LGA  ATL\n",
      "23         97    JFK  DEN\n",
      "27       3852    EWR  BUF\n",
      "...       ...    ...  ...\n",
      "32707    4135    EWR  CLT\n",
      "32709     768    EWR  LAX\n",
      "32713    3689    JFK  PHL\n",
      "32721     108    JFK  PWM\n",
      "32733    1273    JFK  CHS\n",
      "\n",
      "[4037 rows x 3 columns]\n"
     ]
    }
   ],
   "source": [
    "# Filter flights with both departure and arrival delays greater than 30 minutes and select specific columns\n",
    "delayed_flights_info = flights_data[(flights_data['dep_delay'] > 30) & (flights_data['arr_delay'] > 30)][['flight', 'origin', 'dest']]\n",
    "\n",
    "# Display the information of flights meeting the criteria\n",
    "print(delayed_flights_info)\n"
   ]
  },
  {
   "cell_type": "code",
   "execution_count": 124,
   "metadata": {},
   "outputs": [
    {
     "name": "stdout",
     "output_type": "stream",
     "text": [
      "Descending order of early departure:\n",
      "       flight origin dest  early_dep\n",
      "24194    1715    LGA  MSY       21.0\n",
      "8285     3281    LGA  CMH       21.0\n",
      "27076    1117    LGA  TPA       21.0\n",
      "30412     383    LGA  FLL       20.0\n",
      "21806    2680    EWR  BOS       20.0\n",
      "\n",
      "Descending order of early arrival:\n",
      "       flight origin dest  early_arr\n",
      "31891    1628    EWR  SFO       73.0\n",
      "2776       15    EWR  HNL       70.0\n",
      "23979    1643    JFK  SEA       68.0\n",
      "26465       6    JFK  SLC       68.0\n",
      "5415     3403    JFK  MCI       68.0\n"
     ]
    }
   ],
   "source": [
    "# Sort by 'early_departure' in descending order and display the corresponding rows\n",
    "descending_early_departure = flights_data.sort_values(by='early_dep', ascending=False)\n",
    "print(\"Descending order of early departure:\")\n",
    "print(descending_early_departure[['flight', 'origin', 'dest', 'early_dep']].head())\n",
    "\n",
    "# Sort by 'early_arrival' in descending order and display the corresponding rows\n",
    "descending_early_arrival = flights_data.sort_values(by='early_arr', ascending=False)\n",
    "print(\"\\nDescending order of early arrival:\")\n",
    "print(descending_early_arrival[['flight', 'origin', 'dest', 'early_arr']].head())\n"
   ]
  },
  {
   "cell_type": "code",
   "execution_count": 125,
   "metadata": {},
   "outputs": [
    {
     "name": "stdout",
     "output_type": "stream",
     "text": [
      "Descending order of early departure and early arrival:\n",
      "       flight origin dest  early_dep  early_arr\n",
      "27076    1117    LGA  TPA       21.0       42.0\n",
      "8285     3281    LGA  CMH       21.0       36.0\n",
      "24194    1715    LGA  MSY       21.0       17.0\n",
      "22002       5    EWR  SEA       20.0       53.0\n",
      "30412     383    LGA  FLL       20.0       25.0\n",
      "...       ...    ...  ...        ...        ...\n",
      "32718    4241    EWR  DCA        NaN        NaN\n",
      "32721     108    JFK  PWM        NaN        NaN\n",
      "32728    3525    JFK  ORD        NaN        NaN\n",
      "32729    4419    EWR  IND        NaN        NaN\n",
      "32733    1273    JFK  CHS        NaN        NaN\n",
      "\n",
      "[32735 rows x 5 columns]\n"
     ]
    }
   ],
   "source": [
    "# Sort by both 'early_dep' and 'early_arr' in descending order and display the corresponding rows\n",
    "descending_early = flights_data.sort_values(by=['early_dep', 'early_arr'], ascending=[False, False])\n",
    "print(\"Descending order of early departure and early arrival:\")\n",
    "print(descending_early[['flight', 'origin', 'dest', 'early_dep', 'early_arr']])\n"
   ]
  },
  {
   "cell_type": "code",
   "execution_count": 118,
   "metadata": {},
   "outputs": [
    {
     "name": "stdout",
     "output_type": "stream",
     "text": [
      "Descending order of early departure and early arrival (excluding NaN values):\n",
      "       flight origin dest  early_dep  early_arr\n",
      "27076    1117    LGA  TPA       21.0       42.0\n",
      "8285     3281    LGA  CMH       21.0       36.0\n",
      "24194    1715    LGA  MSY       21.0       17.0\n",
      "22002       5    EWR  SEA       20.0       53.0\n",
      "30412     383    LGA  FLL       20.0       25.0\n",
      "...       ...    ...  ...        ...        ...\n",
      "30884     318    JFK  BOS        1.0        1.0\n",
      "31598      29    JFK  TPA        1.0        1.0\n",
      "32376    3209    LGA  DEN        1.0        1.0\n",
      "32404    3621    JFK  DCA        1.0        1.0\n",
      "32669     345    LGA  ORD        1.0        1.0\n",
      "\n",
      "[14329 rows x 5 columns]\n"
     ]
    }
   ],
   "source": [
    "# Drop rows with NaN values in 'early_dep' or 'early_arr' columns\n",
    "flights_data_cleaned = flights_data.dropna(subset=['early_dep', 'early_arr'], how='any')\n",
    "\n",
    "# Sort by both 'early_dep' and 'early_arr' in descending order and display the corresponding rows\n",
    "descending_early = flights_data_cleaned.sort_values(by=['early_dep', 'early_arr'], ascending=[False, False])\n",
    "\n",
    "print(\"Descending order of early departure and early arrival (excluding NaN values):\")\n",
    "print(descending_early[['flight', 'origin', 'dest', 'early_dep', 'early_arr']])\n"
   ]
  },
  {
   "cell_type": "code",
   "execution_count": 126,
   "metadata": {},
   "outputs": [
    {
     "name": "stdout",
     "output_type": "stream",
     "text": [
      "Descending order of flights with early departure and arrival at 5 minutes:\n",
      "       flight origin dest  early_dep  early_arr\n",
      "246      3604    EWR  ORD        5.0        5.0\n",
      "1092     4335    EWR  CMH        5.0        5.0\n",
      "1131      602    JFK  PWM        5.0        5.0\n",
      "1738      526    LGA  STL        5.0        5.0\n",
      "2268     1377    LGA  ATL        5.0        5.0\n",
      "3433      116    JFK  SYR        5.0        5.0\n",
      "3757      874    LGA  MIA        5.0        5.0\n",
      "4241      467    JFK  SLC        5.0        5.0\n",
      "4422     3663    JFK  DCA        5.0        5.0\n",
      "4549      611    JFK  JAX        5.0        5.0\n",
      "5378     1547    LGA  ATL        5.0        5.0\n",
      "5984     4495    EWR  SAV        5.0        5.0\n",
      "6129      883    EWR  DFW        5.0        5.0\n",
      "6729      601    JFK  FLL        5.0        5.0\n",
      "7544     2003    LGA  MIA        5.0        5.0\n",
      "7845      193    EWR  SFO        5.0        5.0\n",
      "7871     4354    EWR  IAD        5.0        5.0\n",
      "8086      677    JFK  LAX        5.0        5.0\n",
      "10221    1331    LGA  MIA        5.0        5.0\n",
      "10544    4525    LGA  XNA        5.0        5.0\n",
      "10823     211    JFK  IAH        5.0        5.0\n",
      "11236    4201    EWR  DAY        5.0        5.0\n",
      "12151     611    JFK  JAX        5.0        5.0\n",
      "12262    1496    EWR  SNA        5.0        5.0\n",
      "12977    2019    LGA  MSP        5.0        5.0\n",
      "13044    4534    LGA  XNA        5.0        5.0\n",
      "13050     863    JFK  LAX        5.0        5.0\n",
      "14438    1999    EWR  MIA        5.0        5.0\n",
      "14531     108    JFK  PWM        5.0        5.0\n",
      "14625       6    JFK  SLC        5.0        5.0\n",
      "14901     435    JFK  SFO        5.0        5.0\n",
      "15248     371    LGA  FLL        5.0        5.0\n",
      "16977     739    JFK  PSE        5.0        5.0\n",
      "17166     788    EWR  ORD        5.0        5.0\n",
      "17743     429    LGA  IAH        5.0        5.0\n",
      "19805     489    LGA  IAH        5.0        5.0\n",
      "20261    5824    EWR  RIC        5.0        5.0\n",
      "21249    4301    EWR  RDU        5.0        5.0\n",
      "21261    4679    EWR  JAX        5.0        5.0\n",
      "21325     461    LGA  ATL        5.0        5.0\n",
      "21689    1204    JFK  BUF        5.0        5.0\n",
      "23868    2147    EWR  MIA        5.0        5.0\n",
      "24472    3535    JFK  CMH        5.0        5.0\n",
      "25055    4535    EWR  MSP        5.0        5.0\n",
      "25724    4191    EWR  BNA        5.0        5.0\n",
      "26660    2431    JFK  MIA        5.0        5.0\n",
      "26687     117    JFK  LAX        5.0        5.0\n",
      "26742    4569    LGA  RDU        5.0        5.0\n",
      "26884    1273    JFK  CHS        5.0        5.0\n",
      "26891    1519    EWR  MCO        5.0        5.0\n",
      "26919     925    JFK  TPA        5.0        5.0\n",
      "27359     935    EWR  ATL        5.0        5.0\n",
      "27705    6049    EWR  IAD        5.0        5.0\n",
      "28619    1542    LGA  CLE        5.0        5.0\n",
      "29709    5109    LGA  CHS        5.0        5.0\n",
      "29786    5038    LGA  BHM        5.0        5.0\n",
      "30070     316    JFK  SYR        5.0        5.0\n",
      "30382     403    JFK  SJU        5.0        5.0\n",
      "31010    1444    EWR  MSY        5.0        5.0\n",
      "32319    1471    LGA  FLL        5.0        5.0\n"
     ]
    }
   ],
   "source": [
    "# Filter rows where 'early_dep' and 'early_arr' are exactly 5\n",
    "filtered_data = flights_data[(flights_data['early_dep'] == 5) & (flights_data['early_arr'] == 5)]\n",
    "\n",
    "# Sort by both 'early_dep' and 'early_arr' in descending order and display the corresponding rows\n",
    "if not filtered_data.empty:\n",
    "    descending_early_5 = filtered_data.sort_values(by=['early_dep', 'early_arr'], ascending=[False, False])\n",
    "    print(\"Descending order of flights with early departure and arrival at 5 minutes:\")\n",
    "    print(descending_early_5[['flight', 'origin', 'dest', 'early_dep', 'early_arr']])\n",
    "else:\n",
    "    print(\"No flights found with early departure and arrival at exactly 5 minutes.\")\n"
   ]
  },
  {
   "cell_type": "code",
   "execution_count": null,
   "metadata": {},
   "outputs": [],
   "source": []
  }
 ],
 "metadata": {
  "kernelspec": {
   "display_name": "Python 3 (ipykernel)",
   "language": "python",
   "name": "python3"
  },
  "language_info": {
   "codemirror_mode": {
    "name": "ipython",
    "version": 3
   },
   "file_extension": ".py",
   "mimetype": "text/x-python",
   "name": "python",
   "nbconvert_exporter": "python",
   "pygments_lexer": "ipython3",
   "version": "3.9.12"
  }
 },
 "nbformat": 4,
 "nbformat_minor": 2
}
